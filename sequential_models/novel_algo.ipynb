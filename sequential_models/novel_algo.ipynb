{
 "cells": [
  {
   "cell_type": "markdown",
   "metadata": {},
   "source": [
    "## ATTENTIOM-BIDIRECTIONAL LSTM"
   ]
  },
  {
   "cell_type": "code",
   "execution_count": null,
   "metadata": {},
   "outputs": [],
   "source": [
    "import pandas as pd\n",
    "import numpy as np\n",
    "import matplotlib.pyplot as plt\n",
    "\n",
    "time_series_data = pd.read_csv(\"PASTE_TRAFFIC_VOLUME_DATA_FILE_PATH_HERE\")\n",
    "time_series_data"
   ]
  },
  {
   "cell_type": "code",
   "execution_count": null,
   "metadata": {},
   "outputs": [],
   "source": [
    "time_series_data.shape"
   ]
  },
  {
   "cell_type": "markdown",
   "metadata": {},
   "source": [
    "## Data cleaning"
   ]
  },
  {
   "cell_type": "code",
   "execution_count": null,
   "metadata": {},
   "outputs": [],
   "source": [
    "\n",
    "df = time_series_data.drop_duplicates(subset=[\"TIME\"])\n",
    "df = df.reset_index()\n",
    "df.shape"
   ]
  },
  {
   "cell_type": "code",
   "execution_count": null,
   "metadata": {},
   "outputs": [],
   "source": [
    "df[100:150]"
   ]
  },
  {
   "cell_type": "code",
   "execution_count": null,
   "metadata": {},
   "outputs": [],
   "source": [
    "df['datetime'] = df['DATE'] + \" \" + df['TIME']\n",
    "\n",
    "df.index = pd.to_datetime(df['datetime'], format='%Y-%m-%d %H:%M:%S')\n",
    "df"
   ]
  },
  {
   "cell_type": "code",
   "execution_count": null,
   "metadata": {},
   "outputs": [],
   "source": [
    "df[['INTERVAL_COUNT']] = df[['TOTAL']]\n",
    "df = df[['INTERVAL_COUNT']]\n",
    "df"
   ]
  },
  {
   "cell_type": "code",
   "execution_count": null,
   "metadata": {},
   "outputs": [],
   "source": [
    "interval_count = df['INTERVAL_COUNT']\n",
    "plt.plot(interval_count)"
   ]
  },
  {
   "cell_type": "markdown",
   "metadata": {},
   "source": [
    "## TRAINING LSTM MODEL"
   ]
  },
  {
   "cell_type": "code",
   "execution_count": null,
   "metadata": {},
   "outputs": [],
   "source": [
    "import torch\n",
    "\n",
    "device = 'cuda:0' if torch.cuda.is_available() else 'cpu'\n",
    "device"
   ]
  },
  {
   "cell_type": "code",
   "execution_count": null,
   "metadata": {},
   "outputs": [],
   "source": [
    "interval_count.isna()"
   ]
  },
  {
   "cell_type": "markdown",
   "metadata": {},
   "source": [
    "### Data Preprocessing"
   ]
  },
  {
   "cell_type": "code",
   "execution_count": null,
   "metadata": {},
   "outputs": [],
   "source": [
    "def df_to_timeseries(df, window_size):\n",
    "    df_as_np = df.to_numpy()\n",
    "    X = []\n",
    "    y = []\n",
    "    for i in range(len(df_as_np)-window_size):\n",
    "        row = [[a] for a in df_as_np[i:i+window_size]]\n",
    "        X.append(row)\n",
    "        future_val = df_as_np[i+window_size]\n",
    "        y.append(future_val)\n",
    "    return X, y"
   ]
  },
  {
   "cell_type": "code",
   "execution_count": null,
   "metadata": {},
   "outputs": [],
   "source": [
    "WINDOW_SIZE = 5\n",
    "\n",
    "X, y = df_to_timeseries(interval_count, WINDOW_SIZE)\n",
    "X = np.array(X)\n",
    "y = np.array(y)\n",
    "X.shape, y.shape"
   ]
  },
  {
   "cell_type": "code",
   "execution_count": null,
   "metadata": {},
   "outputs": [],
   "source": [
    "from copy import deepcopy as dc\n",
    "\n",
    "def trasform_to_series(df, n_steps):\n",
    "    df = dc(df)\n",
    "\n",
    "    for i in range(1, n_steps+1):\n",
    "        df[f'INTERVAL_COUNT(t-{i})'] = df['INTERVAL_COUNT'].shift(-i)\n",
    "\n",
    "    df.dropna(inplace=True)\n",
    "\n",
    "    return df\n",
    "\n",
    "timeseries_df = trasform_to_series(df, WINDOW_SIZE)\n",
    "\n",
    "timeseries_df"
   ]
  },
  {
   "cell_type": "code",
   "execution_count": null,
   "metadata": {},
   "outputs": [],
   "source": [
    "# TRAINING\n",
    "X_train, y_train = X[:197], y[:197] # 80%\n",
    "X_val, y_val = X[197:253], y[197:253] # 20%\n",
    "X_test, y_test = X[253:], y[253:] # 10%\n",
    "\n",
    "X_train.shape, y_train.shape, X_val.shape, y_val.shape, X_test.shape, y_test.shape"
   ]
  },
  {
   "cell_type": "code",
   "execution_count": null,
   "metadata": {},
   "outputs": [],
   "source": [
    "import keras\n",
    "from keras import layers\n",
    "import tensorflow as tf\n",
    "from tensorflow.keras.callbacks import ModelCheckpoint\n",
    "from tensorflow.keras.losses import MeanSquaredError\n",
    "from tensorflow.keras.metrics import RootMeanSquaredError\n",
    "from tensorflow.keras.optimizers import Adam\n",
    "from keras.models import Sequential\n",
    "from tensorflow.keras.layers import LSTM, Bidirectional\n",
    "\n",
    "\n",
    "\n",
    "\n",
    "def biderectional_lstm_attention_model(input_shape):\n",
    "\n",
    "    inputs = keras.Input(shape=input_shape)\n",
    "    lstm_units = 256\n",
    "    \n",
    "    lstm = Bidirectional(LSTM(lstm_units, return_sequences=True))(inputs)\n",
    " \n",
    "\n",
    "\n",
    "    # Attention mechanism\n",
    "    attention = layers.Dense(1, activation='tanh')(lstm)\n",
    "    attention = layers.Flatten()(attention)\n",
    "    attention = layers.Activation('softmax')(attention)\n",
    "    attention = layers.RepeatVector(lstm_units*2)(attention)\n",
    "    attention = layers.Permute([2, 1])(attention)\n",
    "    attention = layers.Multiply()([lstm, attention])\n",
    "    attention = layers.Lambda(lambda x: tf.reduce_sum(x, axis=1))(attention)\n",
    "\n",
    "    # Output layer\n",
    "    outputs = layers.Dense(1)(attention)\n",
    "\n",
    "    # Compile the model\n",
    "    model = keras.Model(inputs=inputs, outputs=outputs)\n",
    "    model.compile(loss=MeanSquaredError(), optimizer=Adam(learning_rate=0.0001), metrics=[RootMeanSquaredError(), 'accuracy'])\n",
    "    return model"
   ]
  },
  {
   "cell_type": "code",
   "execution_count": null,
   "metadata": {},
   "outputs": [],
   "source": [
    "model = biderectional_lstm_attention_model(input_shape = (WINDOW_SIZE, 1))"
   ]
  },
  {
   "cell_type": "code",
   "execution_count": null,
   "metadata": {},
   "outputs": [],
   "source": [
    "checkpoint = ModelCheckpoint('novel_model/checkpoint.model.keras', save_best_only=True)"
   ]
  },
  {
   "cell_type": "code",
   "execution_count": null,
   "metadata": {},
   "outputs": [],
   "source": [
    "import time\n",
    "\n",
    "t0 = time.time()\n",
    "\n",
    "history = model.fit(X_train, y_train, validation_data=(X_val, y_val), epochs=200, callbacks=[checkpoint])"
   ]
  },
  {
   "cell_type": "code",
   "execution_count": null,
   "metadata": {},
   "outputs": [],
   "source": [
    "t1 = time.time()\n",
    "speed = t1-t0\n",
    "\n",
    "print(speed)"
   ]
  },
  {
   "cell_type": "code",
   "execution_count": null,
   "metadata": {},
   "outputs": [],
   "source": [
    "# from tensorflow.keras.models import load_model\n",
    "# novel_model = load_model('novel_model/checkpoint.model.keras', safe_mode=False)"
   ]
  },
  {
   "cell_type": "code",
   "execution_count": null,
   "metadata": {},
   "outputs": [],
   "source": [
    "date_time = df.index[:197]\n",
    "\n",
    "train_predictions = model.predict(X_train).flatten()\n"
   ]
  },
  {
   "cell_type": "code",
   "execution_count": null,
   "metadata": {},
   "outputs": [],
   "source": [
    "train_predictions.shape"
   ]
  },
  {
   "cell_type": "code",
   "execution_count": null,
   "metadata": {},
   "outputs": [],
   "source": [
    "train_results = pd.DataFrame(data={'Train Predictions' :train_predictions, 'Actuals' :y_train})\n",
    "train_results.index = date_time\n",
    "train_results"
   ]
  },
  {
   "cell_type": "code",
   "execution_count": null,
   "metadata": {},
   "outputs": [],
   "source": [
    "plt.plot(train_results['Train Predictions'], label='Train Prediction')\n",
    "plt.plot(train_results['Actuals'], label='Actuals')\n",
    "\n",
    "plt.legend()\n",
    "plt.title('TRAFFIC VOLUME RESULT COMPARISON')\n",
    "plt.xlabel('TIME INTERVAL (5 MINUTES)')\n",
    "plt.ylabel('TRAFFIC VOLUME')\n",
    "plt.show()"
   ]
  },
  {
   "cell_type": "code",
   "execution_count": null,
   "metadata": {},
   "outputs": [],
   "source": [
    "from sklearn.metrics import r2_score, mean_squared_error, mean_absolute_error, root_mean_squared_error\n",
    "\n",
    "print ('R-Squared:',r2_score(y_train, train_predictions))\n",
    "print ('Mean Squared Error:', mean_squared_error (y_train, train_predictions))\n",
    "print ('Mean Absolute Error:', mean_absolute_error (y_train, train_predictions))\n",
    "print ('Root Mean Squared Error:', root_mean_squared_error (y_train, train_predictions))"
   ]
  }
 ],
 "metadata": {
  "kernelspec": {
   "display_name": "cv_2_1_venv2",
   "language": "python",
   "name": "python3"
  },
  "language_info": {
   "codemirror_mode": {
    "name": "ipython",
    "version": 3
   },
   "file_extension": ".py",
   "mimetype": "text/x-python",
   "name": "python",
   "nbconvert_exporter": "python",
   "pygments_lexer": "ipython3",
   "version": "3.10.7"
  }
 },
 "nbformat": 4,
 "nbformat_minor": 2
}
